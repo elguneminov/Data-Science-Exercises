{
  "nbformat": 4,
  "nbformat_minor": 0,
  "metadata": {
    "colab": {
      "name": "001-010_exercises.ipynb",
      "provenance": [],
      "collapsed_sections": [],
      "include_colab_link": true
    },
    "kernelspec": {
      "name": "python3",
      "display_name": "Python 3"
    }
  },
  "cells": [
    {
      "cell_type": "markdown",
      "metadata": {
        "id": "view-in-github",
        "colab_type": "text"
      },
      "source": [
        "<a href=\"https://colab.research.google.com/github/elguneminov/Data-Science-Exercises/blob/main/1_10_exercises.ipynb\" target=\"_parent\"><img src=\"https://colab.research.google.com/assets/colab-badge.svg\" alt=\"Open In Colab\"/></a>"
      ]
    },
    {
      "cell_type": "markdown",
      "metadata": {
        "id": "WLEgCW5F1hho"
      },
      "source": [
        "## Numpy\n",
        "\n",
        "### Table of contents:\n",
        "* [Import biblioteki](#0)\n",
        "* [Exercise 1](#1)\n",
        "* [Exercise 2](#2)\n",
        "* [Exercise 3](#3)\n",
        "* [Exercise 4](#4)\n",
        "* [Exercise 5](#5)\n",
        "* [Exercise 6](#6)\n",
        "* [Exercise 7](#7)\n",
        "* [Exercise 8](#8)\n",
        "* [Exercise 9](#9)\n",
        "* [Exercise 10](#10)"
      ]
    },
    {
      "cell_type": "markdown",
      "metadata": {
        "id": "zeLOLmTj1kBM"
      },
      "source": [
        "### <a name='0'></a> Import of libraries"
      ]
    },
    {
      "cell_type": "code",
      "metadata": {
        "id": "HXMB7SMe1Wnz",
        "outputId": "420d0370-6d66-42dd-8a1f-6b3f34df317c",
        "colab": {
          "base_uri": "https://localhost:8080/",
          "height": 35
        }
      },
      "source": [
        "import numpy as np\n",
        "\n",
        "np.__version__"
      ],
      "execution_count": 7,
      "outputs": [
        {
          "output_type": "execute_result",
          "data": {
            "application/vnd.google.colaboratory.intrinsic+json": {
              "type": "string"
            },
            "text/plain": [
              "'1.18.5'"
            ]
          },
          "metadata": {
            "tags": []
          },
          "execution_count": 7
        }
      ]
    },
    {
      "cell_type": "markdown",
      "metadata": {
        "id": "cyc70pMe1oCg"
      },
      "source": [
        "### <a name='1'></a> Exercise 1\n",
        "Check if all array elements $ A, B, C $ and $ D $ return the logical value _True_.\n",
        "\n",
        "```\n",
        "A = np.array([[3, 2, 1, 4],\n",
        "              [5, 2, 1, 6]])\n",
        "\n",
        "B = np.array([[3, 2, 1, 4],\n",
        "              [5, 2, 0, 6]])\n",
        "\n",
        "C = np.array([[True, False, False],\n",
        "              [True, True, True]])\n",
        "\n",
        "D = np.array([0.1, 0.3])\n",
        "```\n",
        "\n",
        "__Tip:__ Use the function _np.all()_."
      ]
    },
    {
      "cell_type": "code",
      "metadata": {
        "id": "B0IVx0-CpcDW"
      },
      "source": [
        "A = np.array([[3, 2, 1, 4],\n",
        "              [5, 2, 1, 6]])\n",
        " \n",
        "B = np.array([[3, 2, 1, 4],\n",
        "              [5, 2, 0, 6]])\n",
        " \n",
        "C = np.array([[True, False, False],\n",
        "              [True, True, True]])\n",
        " \n",
        "D = np.array([0.1, 0.3])\n",
        "\n",
        "# np.all(A) -- True\n",
        "# np.all(B) -- False\n",
        "# np.all(C) -- False\n",
        "# np.all(D) -- True\n"
      ],
      "execution_count": 17,
      "outputs": []
    },
    {
      "cell_type": "markdown",
      "metadata": {
        "id": "J9pY1rtr1sC0"
      },
      "source": [
        "### <a name='2'></a> Exercise 2\n",
        "Check if all array elements $ A, B $ and $ C $ return the logical value _True_ along the axis with index 1.\n",
        "\n",
        "```\n",
        "A = np.array([[3, 2, 1, 4],\n",
        "              [5, 2, 1, 6]])\n",
        "\n",
        "B = np.array([[3, 2, 1, 4],\n",
        "              [5, 2, 0, 6]])\n",
        "\n",
        "C = np.array([[True, False, False],\n",
        "              [True, True, True]])\n",
        "```\n",
        "\n",
        "__Tip:__ Use the function _np.all()_ with the parameter _axis_."
      ]
    },
    {
      "cell_type": "code",
      "metadata": {
        "id": "8Vt03pJyp78D",
        "outputId": "487b2f10-ebf4-4483-bd0a-a66895dd6c6e",
        "colab": {
          "base_uri": "https://localhost:8080/",
          "height": 34
        }
      },
      "source": [
        "np.all(A,axis=1)"
      ],
      "execution_count": 28,
      "outputs": [
        {
          "output_type": "execute_result",
          "data": {
            "text/plain": [
              "array([ True,  True])"
            ]
          },
          "metadata": {
            "tags": []
          },
          "execution_count": 28
        }
      ]
    },
    {
      "cell_type": "code",
      "metadata": {
        "id": "Zujr2p3VZDQI",
        "outputId": "b831e277-da92-4254-ccf1-6b0e76a129b0",
        "colab": {
          "base_uri": "https://localhost:8080/",
          "height": 34
        }
      },
      "source": [
        "np.all(B,axis=1)"
      ],
      "execution_count": 29,
      "outputs": [
        {
          "output_type": "execute_result",
          "data": {
            "text/plain": [
              "array([ True, False])"
            ]
          },
          "metadata": {
            "tags": []
          },
          "execution_count": 29
        }
      ]
    },
    {
      "cell_type": "code",
      "metadata": {
        "id": "4bzhhDWGZDls",
        "outputId": "ca1511f4-b5d6-46a6-8fa6-cebdb3f0fd32",
        "colab": {
          "base_uri": "https://localhost:8080/",
          "height": 34
        }
      },
      "source": [
        "np.all(C,axis=1)"
      ],
      "execution_count": 30,
      "outputs": [
        {
          "output_type": "execute_result",
          "data": {
            "text/plain": [
              "array([False,  True])"
            ]
          },
          "metadata": {
            "tags": []
          },
          "execution_count": 30
        }
      ]
    },
    {
      "cell_type": "code",
      "metadata": {
        "id": "4ccCprVkZDqe",
        "outputId": "a6904142-b2a5-4ac8-f129-db92c106cce3",
        "colab": {
          "base_uri": "https://localhost:8080/",
          "height": 34
        }
      },
      "source": [
        "np.all(D,axis=0)"
      ],
      "execution_count": 32,
      "outputs": [
        {
          "output_type": "execute_result",
          "data": {
            "text/plain": [
              "True"
            ]
          },
          "metadata": {
            "tags": []
          },
          "execution_count": 32
        }
      ]
    },
    {
      "cell_type": "code",
      "metadata": {
        "id": "c9mYcMyvZDot"
      },
      "source": [
        ""
      ],
      "execution_count": null,
      "outputs": []
    },
    {
      "cell_type": "markdown",
      "metadata": {
        "id": "XQLYT2m11wVG"
      },
      "source": [
        "### <a name='3'></a> Exercise 3\n",
        "Check if any element of arrays $ A, B, C $ and $ D $ returns the logical value _True_.\n",
        "\n",
        "```\n",
        "A = np.array([[0, 0, 0],\n",
        "              [0, 0, 0]])\n",
        "\n",
        "B = np.array([[0, 0, 0],\n",
        "              [0, 1, 0]])\n",
        "\n",
        "C = np.array([[False, False, False],\n",
        "              [True, False, False]])\n",
        "\n",
        "D = np.array([[0.1, 0.0]])\n",
        "```\n",
        "\n",
        "__Tip:__ Use the _np.any()_ function."
      ]
    },
    {
      "cell_type": "code",
      "metadata": {
        "id": "dQ4cIqS7p9zd",
        "outputId": "22edf4bc-fcc2-461b-9228-c7894b5faf1e",
        "colab": {
          "base_uri": "https://localhost:8080/",
          "height": 34
        }
      },
      "source": [
        "np.any(A)"
      ],
      "execution_count": 24,
      "outputs": [
        {
          "output_type": "execute_result",
          "data": {
            "text/plain": [
              "True"
            ]
          },
          "metadata": {
            "tags": []
          },
          "execution_count": 24
        }
      ]
    },
    {
      "cell_type": "code",
      "metadata": {
        "id": "RAXw24nXZiWS",
        "outputId": "a903ea8c-fbc7-4f67-c34a-7070bf629116",
        "colab": {
          "base_uri": "https://localhost:8080/",
          "height": 34
        }
      },
      "source": [
        "np.any(B)"
      ],
      "execution_count": 25,
      "outputs": [
        {
          "output_type": "execute_result",
          "data": {
            "text/plain": [
              "True"
            ]
          },
          "metadata": {
            "tags": []
          },
          "execution_count": 25
        }
      ]
    },
    {
      "cell_type": "code",
      "metadata": {
        "id": "V2UVapvrZiak",
        "outputId": "8c629cf9-f21d-4383-fdd3-5eaf9371a02c",
        "colab": {
          "base_uri": "https://localhost:8080/",
          "height": 34
        }
      },
      "source": [
        "np.any(C)"
      ],
      "execution_count": 26,
      "outputs": [
        {
          "output_type": "execute_result",
          "data": {
            "text/plain": [
              "True"
            ]
          },
          "metadata": {
            "tags": []
          },
          "execution_count": 26
        }
      ]
    },
    {
      "cell_type": "code",
      "metadata": {
        "id": "vBR9v2BzZieO",
        "outputId": "54f2fd85-63da-4517-c0ca-a1c2d91f0b03",
        "colab": {
          "base_uri": "https://localhost:8080/",
          "height": 34
        }
      },
      "source": [
        "np.any(D)"
      ],
      "execution_count": 27,
      "outputs": [
        {
          "output_type": "execute_result",
          "data": {
            "text/plain": [
              "True"
            ]
          },
          "metadata": {
            "tags": []
          },
          "execution_count": 27
        }
      ]
    },
    {
      "cell_type": "markdown",
      "metadata": {
        "id": "4xTKSUzg10MK"
      },
      "source": [
        "### <a name='4'></a> Exercise 4\n",
        "Check if any element of arrays $ A, B, C $ and $ D $ returns the logical value _True_ along the axis with index 0.\n",
        "\n",
        "```\n",
        "A = np.array([[0, 0, 0],\n",
        "              [0, 0, 0]])\n",
        "\n",
        "B = np.array([[0, 0, 0],\n",
        "              [0, 1, 0]])\n",
        "\n",
        "C = np.array([[False, False, False],\n",
        "              [True, False, False]])\n",
        "\n",
        "D = np.array([[0.1, 0.0]])\n",
        "```\n",
        "\n",
        "__Tip:__ Use the _np.any()_ function with the parameter _axis_.\n"
      ]
    },
    {
      "cell_type": "code",
      "metadata": {
        "id": "yR-X87M1qKFE",
        "outputId": "98216574-39d1-4b74-91c8-5e0c30ca2fc8",
        "colab": {
          "base_uri": "https://localhost:8080/",
          "height": 34
        }
      },
      "source": [
        "np.any(A,axis=0)"
      ],
      "execution_count": 33,
      "outputs": [
        {
          "output_type": "execute_result",
          "data": {
            "text/plain": [
              "array([ True,  True,  True,  True])"
            ]
          },
          "metadata": {
            "tags": []
          },
          "execution_count": 33
        }
      ]
    },
    {
      "cell_type": "code",
      "metadata": {
        "id": "nQ2So83rajdS",
        "outputId": "4e22d924-ccaa-477b-ffe8-bf0586411daa",
        "colab": {
          "base_uri": "https://localhost:8080/",
          "height": 34
        }
      },
      "source": [
        "np.any(B,axis=0)"
      ],
      "execution_count": 34,
      "outputs": [
        {
          "output_type": "execute_result",
          "data": {
            "text/plain": [
              "array([ True,  True,  True,  True])"
            ]
          },
          "metadata": {
            "tags": []
          },
          "execution_count": 34
        }
      ]
    },
    {
      "cell_type": "code",
      "metadata": {
        "id": "-bpm96gvajlB",
        "outputId": "cededbea-65c7-4cba-fe28-e4a9ca6f5893",
        "colab": {
          "base_uri": "https://localhost:8080/",
          "height": 34
        }
      },
      "source": [
        "np.any(C,axis=0)"
      ],
      "execution_count": 35,
      "outputs": [
        {
          "output_type": "execute_result",
          "data": {
            "text/plain": [
              "array([ True,  True,  True])"
            ]
          },
          "metadata": {
            "tags": []
          },
          "execution_count": 35
        }
      ]
    },
    {
      "cell_type": "code",
      "metadata": {
        "id": "DXJJ54_pajt0",
        "outputId": "252bac0e-44a3-42e6-bf79-1dbda92bc94c",
        "colab": {
          "base_uri": "https://localhost:8080/",
          "height": 34
        }
      },
      "source": [
        "np.any(D,axis=0)"
      ],
      "execution_count": 36,
      "outputs": [
        {
          "output_type": "execute_result",
          "data": {
            "text/plain": [
              "True"
            ]
          },
          "metadata": {
            "tags": []
          },
          "execution_count": 36
        }
      ]
    },
    {
      "cell_type": "markdown",
      "metadata": {
        "id": "o3HKIKlP15Ro"
      },
      "source": [
        "### <a name='5'></a> Exercise 5\n",
        "Check the array $ A $ for missing data (_np.nan_).\n",
        "\n",
        "```\n",
        "A = np.array([[3, 2, 1, np.nan],\n",
        "              [5, np.nan, 1, 6]])\n",
        "```\n",
        "__Tip:__ Use the _np.isnan()_ function.\n"
      ]
    },
    {
      "cell_type": "code",
      "metadata": {
        "id": "Bf65a1SFqn7L"
      },
      "source": [
        "A = np.array([[3, 2, 1, np.nan],\n",
        "              [5, np.nan, 1, 6]])"
      ],
      "execution_count": 38,
      "outputs": []
    },
    {
      "cell_type": "code",
      "metadata": {
        "id": "sVs_MnP0ah6A",
        "outputId": "b561fec6-7b81-426a-d01e-7220823a6294",
        "colab": {
          "base_uri": "https://localhost:8080/",
          "height": 51
        }
      },
      "source": [
        "np.isnan(A)"
      ],
      "execution_count": 39,
      "outputs": [
        {
          "output_type": "execute_result",
          "data": {
            "text/plain": [
              "array([[False, False, False,  True],\n",
              "       [False,  True, False, False]])"
            ]
          },
          "metadata": {
            "tags": []
          },
          "execution_count": 39
        }
      ]
    },
    {
      "cell_type": "markdown",
      "metadata": {
        "id": "PunXd_Ey16so"
      },
      "source": [
        "### <a name='6'></a> Exercise 6\n",
        "Check if the following arrays $ A $ and $ B $ are equal in terms of elements (element-wise) with the specified tolerance level. Use the _np.allclose()_ function with default parameters.\n",
        "\n",
        "```\n",
        "A = np.array([0.4, 0.5, 0.3])\n",
        "B = np.array([0.39999999, 0.5000001, 0.3])\n",
        "```"
      ]
    },
    {
      "cell_type": "code",
      "metadata": {
        "id": "s5mdygtNa5y1"
      },
      "source": [
        "A = np.array([0.4, 0.5, 0.3])\n",
        "B = np.array([0.39999999, 0.5000001, 0.3])"
      ],
      "execution_count": 40,
      "outputs": []
    },
    {
      "cell_type": "code",
      "metadata": {
        "id": "GFvNmr9erl1D",
        "outputId": "51777d0a-af0f-442e-96d2-51df12c6d72a",
        "colab": {
          "base_uri": "https://localhost:8080/",
          "height": 34
        }
      },
      "source": [
        "np.allclose(A,B)"
      ],
      "execution_count": 41,
      "outputs": [
        {
          "output_type": "execute_result",
          "data": {
            "text/plain": [
              "True"
            ]
          },
          "metadata": {
            "tags": []
          },
          "execution_count": 41
        }
      ]
    },
    {
      "cell_type": "markdown",
      "metadata": {
        "id": "hOhqDRz618Tx"
      },
      "source": [
        "### <a name='7'></a> Exercise 7\n",
        "Check if the following arrays $ A $ and $ B $ are equal in terms of elements (element-wise). Use the comparison operator _==_.\n",
        "\n",
        "```\n",
        "A = np.array([0.4, 0.5, 0.3])\n",
        "B = np.array([0.3999999999, 0.5000000001, 0.3])\n",
        "```"
      ]
    },
    {
      "cell_type": "code",
      "metadata": {
        "id": "zVYhO5BpbVl3"
      },
      "source": [
        "A = np.array([0.4, 0.5, 0.3])\n",
        "B = np.array([0.3999999999, 0.5000000001, 0.3])"
      ],
      "execution_count": 42,
      "outputs": []
    },
    {
      "cell_type": "code",
      "metadata": {
        "id": "gX6r6i6BrwUL",
        "outputId": "1073188d-8bb8-4a84-ea20-4ebeb00a6879",
        "colab": {
          "base_uri": "https://localhost:8080/",
          "height": 34
        }
      },
      "source": [
        "A==B"
      ],
      "execution_count": 43,
      "outputs": [
        {
          "output_type": "execute_result",
          "data": {
            "text/plain": [
              "array([False, False,  True])"
            ]
          },
          "metadata": {
            "tags": []
          },
          "execution_count": 43
        }
      ]
    },
    {
      "cell_type": "markdown",
      "metadata": {
        "id": "TXUd_4631-gw"
      },
      "source": [
        "### <a name='8'></a> Exercise 8\n",
        "\n",
        "Check which elements (element-wise) from the array $ A $ below have higher values than the array $ B $.\n",
        "\n",
        "```\n",
        "A = np.array([0.4, 0.5, 0.3, 0.9])\n",
        "B = np.array([0.38, 0.51, 0.3, 0.91])\n",
        "```"
      ]
    },
    {
      "cell_type": "code",
      "metadata": {
        "id": "BPI8vMf3baew"
      },
      "source": [
        "A = np.array([0.4, 0.5, 0.3, 0.9])\n",
        "B = np.array([0.38, 0.51, 0.3, 0.91])"
      ],
      "execution_count": 44,
      "outputs": []
    },
    {
      "cell_type": "code",
      "metadata": {
        "id": "KkK9env2sCv8",
        "outputId": "1ec90878-fd12-4c3f-98b3-bafb5e349abd",
        "colab": {
          "base_uri": "https://localhost:8080/",
          "height": 34
        }
      },
      "source": [
        "A[A>B]"
      ],
      "execution_count": 46,
      "outputs": [
        {
          "output_type": "execute_result",
          "data": {
            "text/plain": [
              "array([0.4])"
            ]
          },
          "metadata": {
            "tags": []
          },
          "execution_count": 46
        }
      ]
    },
    {
      "cell_type": "markdown",
      "metadata": {
        "id": "tgI6xEn-2AQo"
      },
      "source": [
        "### <a name='9'></a> Exercise 9\n",
        "\n",
        "Create an array of numpy dimensions _4x4_ filled with zeros. Set the data type to _int_.\n",
        "\n",
        "__Expected result:__\n",
        "\n",
        "```\n",
        "array([[0, 0, 0, 0],\n",
        "       [0, 0, 0, 0],\n",
        "       [0, 0, 0, 0],\n",
        "       [0, 0, 0, 0]])\n",
        "```\n",
        "__Tip:__ Use the _np.zeros()_ function."
      ]
    },
    {
      "cell_type": "code",
      "metadata": {
        "id": "FwHWvOAWsbYn",
        "outputId": "bb0d9888-e18e-49a5-d0a5-414ecea1e214",
        "colab": {
          "base_uri": "https://localhost:8080/",
          "height": 85
        }
      },
      "source": [
        "a=np.zeros([4,4],dtype=int)\n",
        "a"
      ],
      "execution_count": 53,
      "outputs": [
        {
          "output_type": "execute_result",
          "data": {
            "text/plain": [
              "array([[0, 0, 0, 0],\n",
              "       [0, 0, 0, 0],\n",
              "       [0, 0, 0, 0],\n",
              "       [0, 0, 0, 0]])"
            ]
          },
          "metadata": {
            "tags": []
          },
          "execution_count": 53
        }
      ]
    },
    {
      "cell_type": "markdown",
      "metadata": {
        "id": "wxhpf-uq2B1I"
      },
      "source": [
        "### <a name='10'></a> Exercise 10\n",
        "Create an array of numpy dimensions _10x10_ filled with number 255. Set the data type to _float_.\n",
        "\n",
        "__Expected result:__\n",
        "```\n",
        "array([[255., 255., 255., 255., 255., 255., 255., 255., 255., 255.],\n",
        "       [255., 255., 255., 255., 255., 255., 255., 255., 255., 255.],\n",
        "       [255., 255., 255., 255., 255., 255., 255., 255., 255., 255.],\n",
        "       [255., 255., 255., 255., 255., 255., 255., 255., 255., 255.],\n",
        "       [255., 255., 255., 255., 255., 255., 255., 255., 255., 255.],\n",
        "       [255., 255., 255., 255., 255., 255., 255., 255., 255., 255.],\n",
        "       [255., 255., 255., 255., 255., 255., 255., 255., 255., 255.],\n",
        "       [255., 255., 255., 255., 255., 255., 255., 255., 255., 255.],\n",
        "       [255., 255., 255., 255., 255., 255., 255., 255., 255., 255.],\n",
        "       [255., 255., 255., 255., 255., 255., 255., 255., 255., 255.]])\n",
        "```\n",
        "\n",
        "__Tip:__ Use the _np.ones()_ or _np.full()_ functions."
      ]
    },
    {
      "cell_type": "code",
      "metadata": {
        "id": "YFc0KW6URsuc",
        "outputId": "9f5ff278-16ca-47ab-f878-b2581a832c9c",
        "colab": {
          "base_uri": "https://localhost:8080/",
          "height": 187
        }
      },
      "source": [
        "np.full([10,10],255,dtype=float)"
      ],
      "execution_count": 62,
      "outputs": [
        {
          "output_type": "execute_result",
          "data": {
            "text/plain": [
              "array([[255., 255., 255., 255., 255., 255., 255., 255., 255., 255.],\n",
              "       [255., 255., 255., 255., 255., 255., 255., 255., 255., 255.],\n",
              "       [255., 255., 255., 255., 255., 255., 255., 255., 255., 255.],\n",
              "       [255., 255., 255., 255., 255., 255., 255., 255., 255., 255.],\n",
              "       [255., 255., 255., 255., 255., 255., 255., 255., 255., 255.],\n",
              "       [255., 255., 255., 255., 255., 255., 255., 255., 255., 255.],\n",
              "       [255., 255., 255., 255., 255., 255., 255., 255., 255., 255.],\n",
              "       [255., 255., 255., 255., 255., 255., 255., 255., 255., 255.],\n",
              "       [255., 255., 255., 255., 255., 255., 255., 255., 255., 255.],\n",
              "       [255., 255., 255., 255., 255., 255., 255., 255., 255., 255.]])"
            ]
          },
          "metadata": {
            "tags": []
          },
          "execution_count": 62
        }
      ]
    },
    {
      "cell_type": "code",
      "metadata": {
        "id": "_SvREPt9cEra"
      },
      "source": [
        ""
      ],
      "execution_count": null,
      "outputs": []
    }
  ]
}